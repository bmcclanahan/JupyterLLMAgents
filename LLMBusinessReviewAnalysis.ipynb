{
 "cells": [
  {
   "cell_type": "markdown",
   "id": "88569d30-d356-4e52-a3b2-4966669b8820",
   "metadata": {},
   "source": [
    "This notebook analyses the [Yelp Dataset](https://www.yelp.com/dataset) using a LLM agent as a copilot. First we'll reorganize the data and put it in pandas a dataframe. This is in order to get the data organized in a format where it is easier to instruct the LLM how to analyze it. Alternatively we could try to get the LLM agent to restructure the data for us. Feel free to give this a shot!"
   ]
  },
  {
   "cell_type": "code",
   "execution_count": null,
   "id": "496c872e-917e-4825-bad3-337cce2443da",
   "metadata": {},
   "outputs": [],
   "source": [
    "import json\n",
    "import pandas as pd\n",
    "from typing import Dict, List\n",
    "\n",
    "\n",
    "def read_json_data(filepath: str):\n",
    "    data = []\n",
    "    print('loading json')\n",
    "    with open(filepath, 'r') as jsonfile:\n",
    "        for line in jsonfile.readlines():\n",
    "            data.append( json.loads(line) )\n",
    "    return data\n",
    "\n",
    "def extract_non_nested_fields(data: List[Dict]):\n",
    "    record = data[0]\n",
    "    columns = set([c for c in record if type(record[c]) != dict and c != 'hours'])\n",
    "    print('reformatting json')\n",
    "    records = []\n",
    "    return [\n",
    "        {key: record[key] for key in record if key in columns }\n",
    "        for record in data\n",
    "    ]\n",
    "\n",
    "def load_json_to_df(filepath: str):\n",
    "    data = read_json_data(filepath)\n",
    "    data = extract_non_nested_fields(data)\n",
    "    print('loading data into dataframe')\n",
    "    return pd.DataFrame(data)\n",
    "        "
   ]
  },
  {
   "cell_type": "code",
   "execution_count": null,
   "id": "939fc73d-7c68-49f8-b2e6-4479f50c98cb",
   "metadata": {},
   "outputs": [],
   "source": [
    "filepath = 'data/yelp_dataset/yelp_academic_dataset_business.json'"
   ]
  },
  {
   "cell_type": "code",
   "execution_count": null,
   "id": "b5f35b5b-ddfa-4f02-8b39-2a312044958c",
   "metadata": {},
   "outputs": [],
   "source": [
    "business_df = load_json_to_df('data/yelp_dataset/yelp_academic_dataset_business.json')"
   ]
  },
  {
   "cell_type": "markdown",
   "id": "ccb8f603-03ff-420f-a56d-fde352e02a6b",
   "metadata": {},
   "source": [
    "We will use a custom `dataframeAnalysis` tool to enable our langchain agent to perform operations on the Pandas dataframes in our python environment and store the results. This tool requires all input dataframes which will be used for analysis to be registered with the `chat_agent` by calling the function `chat_agent.set_inputs`. Each key in the dataframe will correspond to the dataframes name. The value for each key will be a dictionary containing the dataframe itself under a `df` key and a description of the dataframe under a `description` key. \n",
    "\n",
    "For example:\n",
    "```\n",
    "import chat_agent\n",
    "\n",
    "chat_agent.set_inputs(\n",
    "    {\n",
    "        'business_df': {\n",
    "            'df': business_df,\n",
    "            'description': 'this is a dataframe containing information about businesses'\n",
    "        }\n",
    "    }\n",
    ")\n",
    "```"
   ]
  },
  {
   "cell_type": "code",
   "execution_count": null,
   "id": "f5eba4f9",
   "metadata": {
    "tags": []
   },
   "outputs": [],
   "source": [
    "import chat_agent\n",
    "agent_inputs = {\n",
    "    'business_df': {'df': business_df, 'description': 'this is a dataframe containing information about businesses'}\n",
    "}\n",
    "chat_agent.set_inputs(agent_inputs)"
   ]
  },
  {
   "cell_type": "code",
   "execution_count": null,
   "id": "1de3dfee-e46e-4381-8535-67448dd79731",
   "metadata": {},
   "outputs": [],
   "source": [
    "%%chat_agent\n",
    "Give me all of the businesses that are in PA."
   ]
  },
  {
   "cell_type": "code",
   "execution_count": null,
   "id": "4521f1ac-4b30-4f2b-a5b7-cf3b38ecb526",
   "metadata": {},
   "outputs": [],
   "source": []
  },
  {
   "cell_type": "code",
   "execution_count": null,
   "id": "6f39db23-4cc4-4009-a04d-8651601d314e",
   "metadata": {},
   "outputs": [],
   "source": []
  }
 ],
 "metadata": {
  "kernelspec": {
   "display_name": "Python 3 (ipykernel)",
   "language": "python",
   "name": "python3"
  },
  "language_info": {
   "codemirror_mode": {
    "name": "ipython",
    "version": 3
   },
   "file_extension": ".py",
   "mimetype": "text/x-python",
   "name": "python",
   "nbconvert_exporter": "python",
   "pygments_lexer": "ipython3",
   "version": "3.9.16"
  }
 },
 "nbformat": 4,
 "nbformat_minor": 5
}
