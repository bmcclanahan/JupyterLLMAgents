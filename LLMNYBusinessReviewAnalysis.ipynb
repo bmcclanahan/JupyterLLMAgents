{
 "cells": [
  {
   "cell_type": "markdown",
   "id": "88569d30-d356-4e52-a3b2-4966669b8820",
   "metadata": {},
   "source": [
    "This notebook analyses the [Yelp Dataset](https://www.yelp.com/dataset) using a LLM agent as a copilot. First we'll reorganize the data and put it in pandas a dataframe. This is in order to get the data organized in a format where it is easier to instruct the LLM how to analyze it. Alternatively we could try to get the LLM agent to restructure the data for us. Feel free to give this a shot!"
   ]
  },
  {
   "cell_type": "code",
   "execution_count": null,
   "id": "496c872e-917e-4825-bad3-337cce2443da",
   "metadata": {},
   "outputs": [],
   "source": [
    "import json\n",
    "import pandas as pd\n",
    "from typing import Dict, List\n",
    "\n",
    "\n",
    "def read_json_data(filepath: str):\n",
    "    data = []\n",
    "    print('loading json')\n",
    "    with open(filepath, 'r') as jsonfile:\n",
    "        for line in jsonfile.readlines():\n",
    "            data.append( json.loads(line) )\n",
    "    return data\n",
    "\n",
    "def extract_non_nested_fields(data: List[Dict]):\n",
    "    record = data[0]\n",
    "    columns = set([c for c in record if type(record[c]) != dict and c != 'hours'])\n",
    "    print('reformatting json')\n",
    "    records = []\n",
    "    return [\n",
    "        {key: record[key] for key in record if key in columns }\n",
    "        for record in data\n",
    "    ]\n",
    "\n",
    "def load_json_to_df(filepath: str):\n",
    "    data = read_json_data(filepath)\n",
    "    data = extract_non_nested_fields(data)\n",
    "    print('loading data into dataframe')\n",
    "    return pd.DataFrame(data)\n",
    "        "
   ]
  },
  {
   "cell_type": "code",
   "execution_count": null,
   "id": "939fc73d-7c68-49f8-b2e6-4479f50c98cb",
   "metadata": {},
   "outputs": [],
   "source": [
    "filepath = 'data/yelp_dataset/yelp_academic_dataset_business.json'"
   ]
  },
  {
   "cell_type": "code",
   "execution_count": null,
   "id": "b5f35b5b-ddfa-4f02-8b39-2a312044958c",
   "metadata": {},
   "outputs": [],
   "source": [
    "business_df = load_json_to_df('data/yelp_dataset/yelp_academic_dataset_business.json')"
   ]
  },
  {
   "cell_type": "markdown",
   "id": "3a4cc7b6-2020-4a4b-b55c-da40646f498a",
   "metadata": {},
   "source": [
    "Lets take al ook at the dataframes content."
   ]
  },
  {
   "cell_type": "code",
   "execution_count": null,
   "id": "989deb0c-fb82-4937-a4d7-4fdb045371fa",
   "metadata": {},
   "outputs": [],
   "source": [
    "business_df.head()"
   ]
  },
  {
   "cell_type": "markdown",
   "id": "ccb8f603-03ff-420f-a56d-fde352e02a6b",
   "metadata": {},
   "source": [
    "We will use a custom `pythonCodeExecution` tool to enable our langchain agent to perform operations on the Pandas dataframes in our python environment and store the results. This tool requires all input dataframes which will be used for analysis to be registered with the `chat_agent` by calling the function `chat_agent.add_agent_input`. This function takes the variable, a variable name, and a variable description as input arguments\n",
    "For example:\n",
    "```\n",
    "import chat_agent\n",
    "\n",
    "chat_agent.add_agent_input(\n",
    "    business_df,\n",
    "    'business_df',\n",
    "    'this is a dataframe containing information about businesses'\n",
    ")\n",
    "```"
   ]
  },
  {
   "cell_type": "code",
   "execution_count": null,
   "id": "2a90bb19-e8e9-489d-9509-e7460398fb5f",
   "metadata": {},
   "outputs": [],
   "source": [
    "import chat_agent"
   ]
  },
  {
   "cell_type": "code",
   "execution_count": null,
   "id": "f5eba4f9",
   "metadata": {
    "tags": []
   },
   "outputs": [],
   "source": [
    "chat_agent.add_agent_input(\n",
    "    business_df,\n",
    "    'business_df',\n",
    "    'this is a dataframe containing information about businesses'\n",
    ")"
   ]
  },
  {
   "cell_type": "code",
   "execution_count": null,
   "id": "1de3dfee-e46e-4381-8535-67448dd79731",
   "metadata": {},
   "outputs": [],
   "source": [
    "%%chat_agent -n\n",
    "Give me all of the businesses that are in Texas."
   ]
  },
  {
   "cell_type": "code",
   "execution_count": null,
   "id": "41091e9a-a051-44fd-bb79-8f37582ce285",
   "metadata": {},
   "outputs": [],
   "source": [
    "chat_agent.get_result('result')"
   ]
  },
  {
   "cell_type": "code",
   "execution_count": null,
   "id": "adfb3caf-fc45-430b-9bff-f0464b3a648e",
   "metadata": {},
   "outputs": [],
   "source": [
    "%%chat_agent\n",
    "what business in the dataframe result has the greatest number of reviews"
   ]
  },
  {
   "cell_type": "code",
   "execution_count": null,
   "id": "ce7fa2d8-cbd7-4f35-be66-a86698e07ef9",
   "metadata": {},
   "outputs": [],
   "source": [
    "chat_agent.get_result('result')"
   ]
  },
  {
   "cell_type": "code",
   "execution_count": null,
   "id": "eef887ea-cea2-4fd0-be06-d6d3a230648f",
   "metadata": {},
   "outputs": [],
   "source": []
  }
 ],
 "metadata": {
  "kernelspec": {
   "display_name": "Python 3 (ipykernel)",
   "language": "python",
   "name": "python3"
  },
  "language_info": {
   "codemirror_mode": {
    "name": "ipython",
    "version": 3
   },
   "file_extension": ".py",
   "mimetype": "text/x-python",
   "name": "python",
   "nbconvert_exporter": "python",
   "pygments_lexer": "ipython3",
   "version": "3.9.16"
  }
 },
 "nbformat": 4,
 "nbformat_minor": 5
}
