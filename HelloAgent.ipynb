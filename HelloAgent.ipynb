{
 "cells": [
  {
   "cell_type": "markdown",
   "id": "068abfb1-10a9-4c9f-95cf-dc965ae3401d",
   "metadata": {},
   "source": [
    "Import the `chat_agent` module to access the `chat_agent` magic command"
   ]
  },
  {
   "cell_type": "code",
   "execution_count": 1,
   "id": "dc48e1d5-5429-4a51-bcc9-05e5964c4b72",
   "metadata": {},
   "outputs": [],
   "source": [
    "import chat_agent"
   ]
  },
  {
   "cell_type": "markdown",
   "id": "51ddb2cf-c3fd-4078-bf30-af5094ec0c86",
   "metadata": {},
   "source": [
    "By default the chat agent runs in an interactive mode where the user is asked to approve all python code executions. Here the `-n` option is used to run the agent in non-interactive mode.\n",
    "\n",
    "**PLEASE be cautious with using the `-n` option as it will result in arbitrary code execution**.\n",
    "\n",
    "Simply remove the option to run in interactive mode."
   ]
  },
  {
   "cell_type": "code",
   "execution_count": 2,
   "id": "1b364be9-46ad-4552-8d7c-a6f8d76f5d52",
   "metadata": {},
   "outputs": [
    {
     "name": "stdout",
     "output_type": "stream",
     "text": [
      "Prompt:\n",
      "Retrieve the price of Bitcoin and store it in a variable named btc_pr\n",
      "\n",
      "\n",
      "\u001b[1m> Entering new AgentExecutor chain...\u001b[0m\n",
      "on action\n",
      "\u001b[32;1m\u001b[1;3m I need to find the current price of Bitcoin\n",
      "Action: Google Serper\n",
      "Action Input: \"price of Bitcoin\"\u001b[0m\n",
      "Observation: \u001b[36;1m\u001b[1;3m26,309.00 United States Dollar\u001b[0m\n",
      "Thought:on action\n",
      "\u001b[32;1m\u001b[1;3m I need to store this value in a variable\n",
      "Action: pythonCodeExecution\n",
      "Action Input: btc_pr = 26309.00\u001b[0m\n",
      "saving result to agent input  btc_pr\n",
      "\n",
      "Observation: \u001b[33;1m\u001b[1;3mAnswer has been successfully derived. Key: btc_pr\u001b[0m\n",
      "Thought:\u001b[32;1m\u001b[1;3m I now know the final answer\n",
      "Final Answer: The current price of Bitcoin is 26309.00 USD.\u001b[0m\n",
      "\n",
      "\u001b[1m> Finished chain.\u001b[0m\n"
     ]
    },
    {
     "data": {
      "text/plain": [
       "'The current price of Bitcoin is 26309.00 USD.'"
      ]
     },
     "execution_count": 2,
     "metadata": {},
     "output_type": "execute_result"
    }
   ],
   "source": [
    "%%chat_agent -n\n",
    "Retrieve the price of Bitcoin and store it in a variable named btc_pr"
   ]
  },
  {
   "cell_type": "markdown",
   "id": "cf86282d-1575-4597-a2e9-eef68da39136",
   "metadata": {},
   "source": [
    "As can be seen from the logs above the result is stored in a variable named `btc_pr`. The `get_result` function from the `chat_agent` module can be used to retrieve the result."
   ]
  },
  {
   "cell_type": "code",
   "execution_count": 3,
   "id": "ffb0515a-b9f1-4f40-9370-241abb29afcd",
   "metadata": {},
   "outputs": [
    {
     "data": {
      "text/plain": [
       "26309.0"
      ]
     },
     "execution_count": 3,
     "metadata": {},
     "output_type": "execute_result"
    }
   ],
   "source": [
    "chat_agent.get_result('btc_pr')"
   ]
  },
  {
   "cell_type": "code",
   "execution_count": 4,
   "id": "488e2125-1e4c-4aed-afae-6dbc50f6cfb4",
   "metadata": {},
   "outputs": [
    {
     "name": "stdout",
     "output_type": "stream",
     "text": [
      "Prompt:\n",
      "Retrieve the price of Ether and store it in a variable named eth_pr\n",
      "\n",
      "When using the pythonCodeExecution tool you may assume that you have access to the following variables when writing the code:\n",
      "\n",
      "btc_pr - object of type <class 'float'> related to the thought \"I need to store this value in a variable\"\n",
      "\n",
      "\n",
      "\u001b[1m> Entering new AgentExecutor chain...\u001b[0m\n",
      "on action\n",
      "\u001b[32;1m\u001b[1;3m I need to get the price of Ether\n",
      "Action: Google Serper\n",
      "Action Input: \"price of Ether\"\u001b[0m\n",
      "Observation: \u001b[36;1m\u001b[1;3m1,832.74 United States Dollar\u001b[0m\n",
      "Thought:on action\n",
      "\u001b[32;1m\u001b[1;3m I need to store this value in a variable\n",
      "Action: pythonCodeExecution\n",
      "Action Input: eth_pr = 1832.74\u001b[0m\n",
      "saving result to agent input  eth_pr\n",
      "\n",
      "Observation: \u001b[33;1m\u001b[1;3mAnswer has been successfully derived. Key: eth_pr\u001b[0m\n",
      "Thought:\u001b[32;1m\u001b[1;3m I now know the final answer\n",
      "Final Answer: The price of Ether is 1832.74.\u001b[0m\n",
      "\n",
      "\u001b[1m> Finished chain.\u001b[0m\n"
     ]
    },
    {
     "data": {
      "text/plain": [
       "'The price of Ether is 1832.74.'"
      ]
     },
     "execution_count": 4,
     "metadata": {},
     "output_type": "execute_result"
    }
   ],
   "source": [
    "%%chat_agent -n\n",
    "Retrieve the price of Ether and store it in a variable named eth_pr"
   ]
  },
  {
   "cell_type": "code",
   "execution_count": 5,
   "id": "f7563223-7c1a-4597-9b1f-398cdd446168",
   "metadata": {},
   "outputs": [
    {
     "name": "stdout",
     "output_type": "stream",
     "text": [
      "Prompt:\n",
      "compute the difference between btc_pr and eth_pr and store the result in variable named pr_diff\n",
      "\n",
      "When using the pythonCodeExecution tool you may assume that you have access to the following variables when writing the code:\n",
      "\n",
      "btc_pr - object of type <class 'float'> related to the thought \"I need to store this value in a variable\"\n",
      "\n",
      "eth_pr - object of type <class 'float'> related to the thought \"I need to store this value in a variable\"\n",
      "\n",
      "\n",
      "\u001b[1m> Entering new AgentExecutor chain...\u001b[0m\n",
      "on action\n",
      "\u001b[32;1m\u001b[1;3m I need to compute the difference between btc_pr and eth_pr\n",
      "Action: pythonCodeExecution\n",
      "Action Input: pr_diff = btc_pr - eth_pr\u001b[0m\n",
      "saving result to agent input  pr_diff\n",
      "\n",
      "Observation: \u001b[33;1m\u001b[1;3mAnswer has been successfully derived. Key: pr_diff\u001b[0m\n",
      "Thought:\u001b[32;1m\u001b[1;3m I now know the final answer\n",
      "Final Answer: The difference between btc_pr and eth_pr is stored in the variable pr_diff.\u001b[0m\n",
      "\n",
      "\u001b[1m> Finished chain.\u001b[0m\n"
     ]
    },
    {
     "data": {
      "text/plain": [
       "'The difference between btc_pr and eth_pr is stored in the variable pr_diff.'"
      ]
     },
     "execution_count": 5,
     "metadata": {},
     "output_type": "execute_result"
    }
   ],
   "source": [
    "%%chat_agent -n\n",
    "compute the difference between btc_pr and eth_pr and store the result in variable named pr_diff"
   ]
  },
  {
   "cell_type": "code",
   "execution_count": 6,
   "id": "7d5f70a0-ae85-42dd-a2f5-2fd9c929f192",
   "metadata": {},
   "outputs": [
    {
     "data": {
      "text/plain": [
       "24476.26"
      ]
     },
     "execution_count": 6,
     "metadata": {},
     "output_type": "execute_result"
    }
   ],
   "source": [
    "chat_agent.get_result('pr_diff')"
   ]
  },
  {
   "cell_type": "code",
   "execution_count": null,
   "id": "1f2dcbc9-d05a-4e35-a474-68031ca854c0",
   "metadata": {},
   "outputs": [],
   "source": []
  }
 ],
 "metadata": {
  "kernelspec": {
   "display_name": "Python 3 (ipykernel)",
   "language": "python",
   "name": "python3"
  },
  "language_info": {
   "codemirror_mode": {
    "name": "ipython",
    "version": 3
   },
   "file_extension": ".py",
   "mimetype": "text/x-python",
   "name": "python",
   "nbconvert_exporter": "python",
   "pygments_lexer": "ipython3",
   "version": "3.9.16"
  }
 },
 "nbformat": 4,
 "nbformat_minor": 5
}
